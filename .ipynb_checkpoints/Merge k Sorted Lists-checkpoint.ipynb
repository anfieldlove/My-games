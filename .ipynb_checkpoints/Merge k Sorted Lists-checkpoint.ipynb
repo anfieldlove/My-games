{
 "cells": [
  {
   "cell_type": "code",
   "execution_count": 4,
   "metadata": {},
   "outputs": [],
   "source": [
    "a = [1, 1, 2, 3, 5, 8]\n",
    "b = [1, 2, 3, 4]\n",
    "c = [1, 3, 5, 7]"
   ]
  },
  {
   "cell_type": "code",
   "execution_count": null,
   "metadata": {},
   "outputs": [],
   "source": [
    "print(a+b+c)"
   ]
  },
  {
   "cell_type": "markdown",
   "metadata": {},
   "source": [
    "Bubble"
   ]
  },
  {
   "cell_type": "code",
   "execution_count": 84,
   "metadata": {},
   "outputs": [],
   "source": [
    "def sort(list1,list2,list3):\n",
    "    list = list1 + list2 + list3\n",
    "    for index in range(len(list)):\n",
    "        flag = True\n",
    "        for j in range(1, len(list) - index):\n",
    "            if list[j - 1] > list[j]:\n",
    "                list[j - 1], list[j] = list[j], list[j - 1]\n",
    "                flag = False\n",
    "        if flag:\n",
    "            return list\n",
    "    return list"
   ]
  },
  {
   "cell_type": "code",
   "execution_count": 86,
   "metadata": {},
   "outputs": [
    {
     "data": {
      "text/plain": [
       "[1, 1, 1, 1, 2, 2, 3, 3, 3, 4, 5, 5, 7, 8]"
      ]
     },
     "execution_count": 86,
     "metadata": {},
     "output_type": "execute_result"
    }
   ],
   "source": [
    "sort(a, b, c)"
   ]
  },
  {
   "cell_type": "markdown",
   "metadata": {},
   "source": [
    "heap"
   ]
  },
  {
   "cell_type": "markdown",
   "metadata": {},
   "source": [
    "这里做个假设, 有序数组的个数为 L\n",
    "\n",
    "所有数组中, 最长数组的长度为 N, 每个数组中的元素个数可以不等\n",
    "\n",
    "很正常的会想到写二层for循环相邻两两进行合并,但时间复杂度肯定过不去\n",
    "\n",
    "可以使用最小堆, python中很少情况会想到使用堆, 开始还以为python中没有, 顺便研究了下heap,具体思路为:\n",
    "\n",
    "1.维护一个最小堆, 堆的个数等于链表个数, 为L\n",
    "2.维护一个新链表,为D\n",
    "3.初始化堆中的元素为每个链表的第一个元素\n",
    "4.由最小堆的特性,堆的最顶层元素为最小值,每次取该最小值并记录该最小值所在有序链表的索引\n",
    "5.将该最小值添加到D中\n",
    "6.再把该最小值所在的链表的下一个元素入堆(如果存在的话)\n",
    "7.循环4-6直到所有元素都已添加到D中"
   ]
  },
  {
   "cell_type": "code",
   "execution_count": 5,
   "metadata": {},
   "outputs": [],
   "source": [
    "import heapq\n",
    "from collections import deque\n",
    "def list_merge(*lists):\n",
    "    #入参判断, 这里直接pass\n",
    "    #将所有链表转化为deque,方便使用popleft获取链表的最左元素及根据索引返回该索引对应的剩余链表\n",
    "    queues = [queue for queue in map(deque, lists)]\n",
    "    heap = []\n",
    "    #初始化链表,该链表中的元素为元组, 各个链表的第一个元素及链表所在索引\n",
    "    for i, lst in enumerate(queues):\n",
    "        heap.append((lst.popleft(), i))\n",
    "    #将链表转换成最小堆\n",
    "    heapq.heapify(heap)\n",
    "    #链表: 用于存放每次获取的堆顶层元素\n",
    "    result = []\n",
    "    \n",
    "    while heap:\n",
    "        #将堆顶层元素出堆\n",
    "        value, index = heapq.heappop(heap)\n",
    "        #将顶层元素追加\n",
    "        result.append(value)\n",
    "        #根据索引获取对应链表的剩余元素\n",
    "        if queues[index]:\n",
    "             #如果存在下一个元素,则将该元素及索引入堆\n",
    "            heapq.heappush(heap, (queues[index].popleft(), index))\n",
    "    return result\n"
   ]
  },
  {
   "cell_type": "code",
   "execution_count": 6,
   "metadata": {},
   "outputs": [
    {
     "data": {
      "text/plain": [
       "[1, 1, 1, 1, 2, 2, 3, 3, 3, 4, 5, 5, 7, 8]"
      ]
     },
     "execution_count": 6,
     "metadata": {},
     "output_type": "execute_result"
    }
   ],
   "source": [
    "list_merge(*[a,b,c])"
   ]
  },
  {
   "cell_type": "markdown",
   "metadata": {},
   "source": [
    "时间复杂度: 由于每个元素都需要读取一次, 即最大次数为L*N, 将每一个元素插入最小堆中的复杂度为O(logL),即总的复杂度为O(L*NlogL)\n",
    "空间复杂度为: 维护最小堆的大小,即 O(L)"
   ]
  },
  {
   "cell_type": "code",
   "execution_count": 153,
   "metadata": {},
   "outputs": [],
   "source": [
    "class Solution():\n",
    "    def sort2(self, list1, list2):\n",
    "        list = []\n",
    "        while len(list1) > 0 and len(list2) > 0:\n",
    "            if list1[0] < list2[0]:\n",
    "                list.append(list1[0])\n",
    "                del list1[0]\n",
    "            else:\n",
    "                list.append(list2[0])\n",
    "                del list2[0]\n",
    "                \n",
    "        list.extend(list1)\n",
    "        list.extend(list2)\n",
    "        return list\n",
    "    \n",
    "    def sort3(self, list1, list2, list3):\n",
    "        tmp = sort2(list1,list2)\n",
    "        list = sort2(tmp, list3)\n",
    "        return list"
   ]
  },
  {
   "cell_type": "code",
   "execution_count": 154,
   "metadata": {},
   "outputs": [],
   "source": [
    "solution = Solution()"
   ]
  },
  {
   "cell_type": "code",
   "execution_count": 155,
   "metadata": {},
   "outputs": [
    {
     "data": {
      "text/plain": [
       "[1, 1, 1, 1, 2, 2, 3, 3, 3, 4, 5, 5, 7, 8]"
      ]
     },
     "execution_count": 155,
     "metadata": {},
     "output_type": "execute_result"
    }
   ],
   "source": [
    "solution.sort3(a,b,c)"
   ]
  },
  {
   "cell_type": "code",
   "execution_count": 132,
   "metadata": {},
   "outputs": [],
   "source": [
    "def sort2(list1, list2):\n",
    "        list = []\n",
    "        while len(list1) > 0 and len(list2) > 0:\n",
    "            if list1[0] < list2[0]:\n",
    "                list.append(list1[0])\n",
    "                del list1[0]\n",
    "            else:\n",
    "                list.append(list2[0])\n",
    "                del list2[0]\n",
    "                \n",
    "        list.extend(list1)\n",
    "        list.extend(list2)\n",
    "        return list\n",
    "def sort3(list1, list2, list3):\n",
    "    tmp = sort2(list1,list2)\n",
    "    list = sort2(tmp, list3)\n",
    "    return list"
   ]
  },
  {
   "cell_type": "code",
   "execution_count": 124,
   "metadata": {},
   "outputs": [
    {
     "data": {
      "text/plain": [
       "[1, 1, 1, 1, 2, 2, 3, 3, 3, 4, 5, 5, 7, 8]"
      ]
     },
     "execution_count": 124,
     "metadata": {},
     "output_type": "execute_result"
    }
   ],
   "source": [
    "sort3(a,b,c)"
   ]
  }
 ],
 "metadata": {
  "kernelspec": {
   "display_name": "Python 3",
   "language": "python",
   "name": "python3"
  },
  "language_info": {
   "codemirror_mode": {
    "name": "ipython",
    "version": 3
   },
   "file_extension": ".py",
   "mimetype": "text/x-python",
   "name": "python",
   "nbconvert_exporter": "python",
   "pygments_lexer": "ipython3",
   "version": "3.7.0"
  }
 },
 "nbformat": 4,
 "nbformat_minor": 2
}
